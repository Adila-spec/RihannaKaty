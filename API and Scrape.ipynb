{
 "cells": [
  {
   "cell_type": "markdown",
   "id": "95952cac",
   "metadata": {},
   "source": [
    "# ADS 509 Module 1: APIs and Web Scraping\n",
    "\n",
    "This notebook has three parts. In the first part you will pull data from the Twitter API. In the second, you will scrape lyrics from AZLyrics.com. In the last part, you'll run code that verifies the completeness of your data pull. \n",
    "\n",
    "For this assignment you have chosen two musical artists who have at least 100,000 Twitter followers and 20 songs with lyrics on AZLyrics.com. In this part of the assignment we pull the some of the user information for the followers of your artist and store them in text files. \n"
   ]
  },
  {
   "cell_type": "markdown",
   "id": "069b7ae8",
   "metadata": {},
   "source": [
    "## General Assignment Instructions\n",
    "\n",
    "These instructions are included in every assignment, to remind you of the coding standards for the class. Feel free to delete this cell after reading it. \n",
    "\n",
    "One sign of mature code is conforming to a style guide. We recommend the [Google Python Style Guide](https://google.github.io/styleguide/pyguide.html). If you use a different style guide, please include a cell with a link. \n",
    "\n",
    "Your code should be relatively easy-to-read, sensibly commented, and clean. Writing code is a messy process, so please be sure to edit your final submission. Remove any cells that are not needed or parts of cells that contain unnecessary code. Remove inessential `import` statements and make sure that all such statements are moved into the designated cell. \n",
    "\n",
    "Make use of non-code cells for written commentary. These cells should be grammatical and clearly written. In some of these cells you will have questions to answer. The questions will be marked by a \"Q:\" and will have a corresponding \"A:\" spot for you. *Make sure to answer every question marked with a `Q:` for full credit.* \n"
   ]
  },
  {
   "cell_type": "markdown",
   "id": "91c8969e",
   "metadata": {},
   "source": [
    "# Twitter API Pull"
   ]
  },
  {
   "cell_type": "code",
   "execution_count": 1,
   "id": "185076b0",
   "metadata": {},
   "outputs": [],
   "source": [
    "# for the twitter section\n",
    "import tweepy\n",
    "import os\n",
    "import datetime\n",
    "import re\n",
    "from pprint import pprint\n",
    "\n",
    "# for the lyrics scrape section\n",
    "import requests\n",
    "import time\n",
    "from bs4 import BeautifulSoup\n",
    "import shutil\n",
    "from collections import defaultdict, Counter\n",
    "import pandas as pd"
   ]
  },
  {
   "cell_type": "code",
   "execution_count": 2,
   "id": "a47e2d5f",
   "metadata": {},
   "outputs": [
    {
     "name": "stdout",
     "output_type": "stream",
     "text": [
      "4.9.0\n"
     ]
    }
   ],
   "source": [
    "# Use this cell for any import statements you add\n",
    "\n",
    "print(tweepy.__version__) "
   ]
  },
  {
   "cell_type": "code",
   "execution_count": 3,
   "id": "7cc419fb",
   "metadata": {},
   "outputs": [],
   "source": [
    "#api_key = 'qVwvijelkdfuhaljAxIEtPB3Tq'\n",
    "#api_key_secret = 'M29LjXVBcZtDwthfiuh842R7Q20I0HhpQlchTFLCCy2wv7c9D'\n",
    "#access_token = '419210344-gGwnP4ptrWZnkW5Ljfhaliu3FpsYOHCeo4kC73ZJ'\n",
    "#access_token_secret = '4nY4DN4e6tcemfsadsiasliu3h4PGI0etrUKG3190U3ey'\n",
    "\n",
    "api_key='LUKbDXuSS6Z8tZoYvHtyS0OPk'\n",
    "api_key_secret= 'dS9w5HSHhAAgEHrJPmnIiizEytWiGYITnxJkx1BeGfYJdeDyx1'\n",
    "access_token= '1524139829268664321-7ftbINxgsCgcYUANOQJHDi4LzFLaQb'\n",
    "access_token_secret= 'aZJ2tRZuc0RU4qUeCGEMkEty0GGoRCSeUSqMJY8H9Tp1e'"
   ]
  },
  {
   "cell_type": "markdown",
   "id": "c21c86ec",
   "metadata": {},
   "source": [
    "We need bring in our API keys. Since API keys should be kept secret, we'll keep them in a file called `api_keys.py`. This file should be stored in the directory where you store this notebook. The example file is provided for you on Blackboard. The example has API keys that are _not_ functional, so you'll need to get Twitter credentials and replace the placeholder keys. "
   ]
  },
  {
   "cell_type": "code",
   "execution_count": 4,
   "id": "f01bdec6",
   "metadata": {},
   "outputs": [],
   "source": [
    "#from api_keys import api_key, api_key_secret, access_token, access_token_secret "
   ]
  },
  {
   "cell_type": "code",
   "execution_count": 5,
   "id": "e0c251d2",
   "metadata": {},
   "outputs": [],
   "source": [
    "#auth = tweepy.AppAuthHandler(api_key, api_key_secret)\n",
    "#api = tweepy.API(auth,wait_on_rate_limit=True)\n",
    "\n",
    "\n",
    "auth = tweepy.OAuthHandler(api_key,api_key_secret)\n",
    "auth.set_access_token(access_token,access_token_secret)\n",
    "\n",
    "api = tweepy.API(\n",
    "    auth,\n",
    "    wait_on_rate_limit=True\n",
    ")\n"
   ]
  },
  {
   "cell_type": "markdown",
   "id": "6aa67032",
   "metadata": {},
   "source": [
    "## Testing the API\n",
    "\n",
    "The Twitter APIs are quite rich. Let's play around with some of the features before we dive into this section of the assignment. For our testing, it's convenient to have a small data set to play with. We will seed the code with the handle of John Chandler, one of the instructors in this course. His handle is `@37chandler`. Feel free to use a different handle if you would like to look at someone else's data. \n",
    "\n",
    "We will write code to explore a few aspects of the API: \n",
    "\n",
    "1. Pull all the follower IDs for @katymck.\n",
    "1. Explore the user object, which gives us information about Twitter users. \n",
    "1. Pull some user objects for the followers. \n",
    "1. Pull the last few tweets by @katymck.\n"
   ]
  },
  {
   "cell_type": "code",
   "execution_count": 6,
   "id": "56fb2673",
   "metadata": {},
   "outputs": [
    {
     "name": "stderr",
     "output_type": "stream",
     "text": [
      "Unexpected parameter: wait_on_rate_limit\n",
      "Unexpected parameter: compression\n"
     ]
    },
    {
     "name": "stdout",
     "output_type": "stream",
     "text": [
      "Here are the first five follower ids for katymck out of the 13 total.\n",
      "katymck has 13 followers\n"
     ]
    },
    {
     "data": {
      "text/plain": [
       "[1351711667416023041, 1150871234, 248618836, 3199856542, 1239123794]"
      ]
     },
     "execution_count": 6,
     "metadata": {},
     "output_type": "execute_result"
    }
   ],
   "source": [
    "handle = \"katymck\"\n",
    "\n",
    "followers = []\n",
    "\n",
    "for page in tweepy.Cursor(api.get_follower_ids,\n",
    "                          # This is how we will get around the issue of not being able to grab all ids at once\n",
    "                          # Once the rate limit is hit, we will be  that we must wait 15 mins (900 secs)\n",
    "                          wait_on_rate_limit=True,  \n",
    "                          compression=True,\n",
    "                          screen_name=handle).pages():\n",
    "\n",
    "    # The page variable comes back as a list, so we have to use .extend rather than .append\n",
    "    followers.extend(page)\n",
    "        \n",
    "        \n",
    "print(f\"Here are the first five follower ids for {handle} out of the {len(followers)} total.\")\n",
    "print(f'{handle} has {len(followers)} followers')\n",
    "followers_subset = followers[:5]\n",
    "followers_subset"
   ]
  },
  {
   "cell_type": "markdown",
   "id": "2dad0a3f",
   "metadata": {},
   "source": [
    "We have the follower IDs, which are unique numbers identifying the user, but we'd like to get some more information on these users. Twitter allows us to pull \"fully hydrated user objects\", which is a fancy way of saying \"all the information about the user\". Let's look at user object for our starting handle."
   ]
  },
  {
   "cell_type": "code",
   "execution_count": 7,
   "id": "e1ae5e35",
   "metadata": {},
   "outputs": [
    {
     "name": "stdout",
     "output_type": "stream",
     "text": [
      "{'id': 17947072, 'id_str': '17947072', 'name': 'Katy McKinney-Bock', 'screen_name': 'katymck', 'location': 'Portland, OR', 'profile_location': None, 'description': '', 'url': None, 'entities': {'description': {'urls': []}}, 'protected': False, 'followers_count': 13, 'friends_count': 108, 'listed_count': 0, 'created_at': 'Sun Dec 07 20:21:24 +0000 2008', 'favourites_count': 5, 'utc_offset': None, 'time_zone': None, 'geo_enabled': False, 'verified': False, 'statuses_count': 1, 'lang': None, 'status': {'created_at': 'Tue Sep 06 18:09:24 +0000 2016', 'id': 773221578850967552, 'id_str': '773221578850967552', 'text': '@MattAndersonBBC our eyes give us away-@1000frames/sec, eye-tracking shows we use adjective order to deduce meaning! https://t.co/ZuyGIHnB1U', 'truncated': False, 'entities': {'hashtags': [], 'symbols': [], 'user_mentions': [], 'urls': [{'url': 'https://t.co/ZuyGIHnB1U', 'expanded_url': 'http://tinyurl.com/z3rvmlh', 'display_url': 'tinyurl.com/z3rvmlh', 'indices': [117, 140]}]}, 'source': '<a href=\"http://twitter.com\" rel=\"nofollow\">Twitter Web Client</a>', 'in_reply_to_status_id': 772002757222002688, 'in_reply_to_status_id_str': '772002757222002688', 'in_reply_to_user_id': 1193503572, 'in_reply_to_user_id_str': '1193503572', 'in_reply_to_screen_name': 'MattAndersonNYT', 'geo': None, 'coordinates': None, 'place': None, 'contributors': None, 'is_quote_status': False, 'retweet_count': 0, 'favorite_count': 0, 'favorited': False, 'retweeted': False, 'possibly_sensitive': False, 'lang': 'en'}, 'contributors_enabled': False, 'is_translator': False, 'is_translation_enabled': False, 'profile_background_color': 'EBEBEB', 'profile_background_image_url': 'http://abs.twimg.com/images/themes/theme7/bg.gif', 'profile_background_image_url_https': 'https://abs.twimg.com/images/themes/theme7/bg.gif', 'profile_background_tile': False, 'profile_image_url': 'http://pbs.twimg.com/profile_images/67418356/katy_normal.jpg', 'profile_image_url_https': 'https://pbs.twimg.com/profile_images/67418356/katy_normal.jpg', 'profile_link_color': '990000', 'profile_sidebar_border_color': 'DFDFDF', 'profile_sidebar_fill_color': 'F3F3F3', 'profile_text_color': '333333', 'profile_use_background_image': True, 'has_extended_profile': False, 'default_profile': False, 'default_profile_image': False, 'following': False, 'follow_request_sent': False, 'notifications': False, 'translator_type': 'none', 'withheld_in_countries': []}\n"
     ]
    }
   ],
   "source": [
    "# get user information\n",
    "user = api.get_user(screen_name=handle) \n",
    "print(user._json)"
   ]
  },
  {
   "cell_type": "markdown",
   "id": "6abc5dc6",
   "metadata": {},
   "source": [
    "Now a few questions for you about the user object.\n",
    "\n",
    "Q: How many fields are being returned in the \\_json portion of the user object? \n",
    "\n",
    "A: 44  \n",
    "\n",
    "---\n",
    "\n",
    "Q: Are any of the fields within the user object non-scaler? TK correct term\n",
    "\n",
    "A: yes because some lines have multiple values\n",
    "\n",
    "---\n",
    "\n",
    "Q: How many friends, followers, favorites, and statuses does this user have? \n",
    "\n",
    "A:  'followers_count': 13,\n",
    " 'friends_count': 108,\n",
    " 'favourites_count': 5,\n",
    " 'statuses_count': 1,\n"
   ]
  },
  {
   "cell_type": "markdown",
   "id": "10fbadc0",
   "metadata": {},
   "source": [
    "We can map the follower IDs onto screen names by accessing the screen_name key within the user object. Modify the code below to also print out how many people the follower is following and how many followers they have. "
   ]
  },
  {
   "cell_type": "code",
   "execution_count": 8,
   "id": "6447c3ae",
   "metadata": {},
   "outputs": [
    {
     "name": "stdout",
     "output_type": "stream",
     "text": [
      "user: roadmaphome2030 ,  followers_count: 7364,friends_count: 3253 \n",
      "user: ImaneBello ,  followers_count: 372,friends_count: 816 \n",
      "user: BuseCett ,  followers_count: 1434,friends_count: 1746 \n",
      "user: apreshill ,  followers_count: 16722,friends_count: 1900 \n",
      "user: DaraShifrer ,  followers_count: 394,friends_count: 595 \n",
      "user: g2barrow ,  followers_count: 4,friends_count: 14 \n",
      "user: ErikaVaris ,  followers_count: 954,friends_count: 458 \n",
      "user: mlroach ,  followers_count: 1919,friends_count: 667 \n",
      "user: rlengland ,  followers_count: 46,friends_count: 157 \n",
      "user: mmkane ,  followers_count: 15,friends_count: 205 \n"
     ]
    }
   ],
   "source": [
    "ids_to_lookup = followers[:10]\n",
    "\n",
    "for user_obj in api.lookup_users(user_id=ids_to_lookup) :\n",
    "#     print(f\"{handle} is followed by {user_obj.screen_name}\")\n",
    "    print(f\"user: {user_obj.screen_name} ,  followers_count: {user_obj.followers_count},friends_count: {user_obj.friends_count} \")\n",
    "    \n",
    "    # Add code here to print out friends and followers of `handle`\n"
   ]
  },
  {
   "cell_type": "code",
   "execution_count": null,
   "id": "bd43b958",
   "metadata": {},
   "outputs": [],
   "source": []
  },
  {
   "cell_type": "markdown",
   "id": "d8564d2c",
   "metadata": {},
   "source": [
    "Although you won't need it for this assignment, individual tweets (called \"statuses\" in the API) can be a rich source of text-based data. To illustrate the concepts, let's look at the last few tweets for this user. You are encouraged to explore the `status` object and marvel in the richness of the data that is available. \n"
   ]
  },
  {
   "cell_type": "code",
   "execution_count": 9,
   "id": "a9fb5c4d",
   "metadata": {},
   "outputs": [
    {
     "name": "stderr",
     "output_type": "stream",
     "text": [
      "Unexpected parameter: id\n",
      "Unexpected parameter: id\n"
     ]
    },
    {
     "name": "stdout",
     "output_type": "stream",
     "text": [
      "The tweet was tweeted at 2016-09-06 18:09:24+00:00.\n",
      "The original tweet has been retweeted 0 times.\n",
      "@MattAndersonBBC our eyes give us away-@1000frames/sec, eye-tracking shows we use adjective order to deduce meaning! https://t.co/ZuyGIHnB1U\n",
      "\n",
      "\n",
      "\n"
     ]
    }
   ],
   "source": [
    "tweet_count = 0\n",
    "\n",
    "for status in tweepy.Cursor(api.user_timeline, id=handle).items():\n",
    "    tweet_count += 1\n",
    "    \n",
    "    print(f\"The tweet was tweeted at {status.created_at}.\")\n",
    "    print(f\"The original tweet has been retweeted {status.retweet_count} times.\")\n",
    "    \n",
    "    clean_status = status.text\n",
    "    clean_status = clean_status.replace(\"\\n\",\" \")\n",
    "    \n",
    "    print(f\"{clean_status}\")\n",
    "    print(\"\\n\"*2)\n",
    "        \n",
    "    if tweet_count > 10 :\n",
    "        break\n",
    "\n"
   ]
  },
  {
   "cell_type": "markdown",
   "id": "66d50726",
   "metadata": {},
   "source": [
    "## Pulling Follower Information\n",
    "\n",
    "In this next section of the assignment, we will pull information about the followers of your two artists. We must first get the follower IDs, then we will be able to \"hydrate\" the IDs, pulling the user objects for them. Once we have those user objects we will extract some fields that we can use in future analyses. \n",
    "\n",
    "\n",
    "The Twitter API only allows users to make 15 requests per 15 minutes when pulling followers. Each request allows you to gather 5000 follower ids. Tweepy will grab the 15 requests quickly then wait 15 minutes, rather than slowly pull the requests over the time period. Before we start grabbing follower IDs, let's first just check how long it would take to pull all of the followers. To do this we use the `followers_count` item from the user object. "
   ]
  },
  {
   "cell_type": "code",
   "execution_count": 10,
   "id": "cfdc55ab",
   "metadata": {},
   "outputs": [
    {
     "name": "stdout",
     "output_type": "stream",
     "text": [
      "\n",
      "    @rihanna has 106549889 followers. \n",
      "    That will take roughly 355.17 hours to pull the followers.\n",
      "    \n",
      "\n",
      "    @heisrema has 3137784 followers. \n",
      "    That will take roughly 10.46 hours to pull the followers.\n",
      "    \n"
     ]
    }
   ],
   "source": [
    "# I'm putting the handles in a list to iterate through below\n",
    "handles = ['rihanna','heisrema']\n",
    "\n",
    "# This will iterate through each Twitter handle that we're collecting from\n",
    "for screen_name in handles:\n",
    "    \n",
    "    # Tells Tweepy we want information on the handle we're collecting from\n",
    "    # The next line specifies which information we want, which in this case is the number of followers \n",
    "    user = api.get_user(screen_name=screen_name) \n",
    "    followers_count = user.followers_count\n",
    "\n",
    "    # Let's see roughly how long it will take to grab all the follower IDs. \n",
    "    print(f'''\n",
    "    @{screen_name} has {followers_count} followers. \n",
    "    That will take roughly {followers_count/(5000*15*4):.2f} hours to pull the followers.\n",
    "    ''')\n",
    "    "
   ]
  },
  {
   "cell_type": "markdown",
   "id": "0d5f3299",
   "metadata": {},
   "source": [
    "As we pull data for each artist we will write their data to a folder called \"twitter\", so we will make that folder if needed."
   ]
  },
  {
   "cell_type": "code",
   "execution_count": 11,
   "id": "e3a32641",
   "metadata": {},
   "outputs": [],
   "source": [
    "# Make the \"twitter\" folder here. If you'd like to practice your programming, add functionality \n",
    "# that checks to see if the folder exists. If it does, then \"unlink\" it. Then create a new one.\n",
    "\n",
    "if not os.path.isdir(\"twitter\") : \n",
    "    #shutil.rmtree(\"twitter/\")\n",
    "    os.mkdir(\"twitter\")"
   ]
  },
  {
   "cell_type": "markdown",
   "id": "dd58dd90",
   "metadata": {},
   "source": [
    "In this following cells, use the `api.followers_ids` (and the `tweepy.Cursor` functionality) to pull some of the followers for your two artists. As you pull the data, write the follower ids to a file called `[artist name]_followers.txt` in the \"twitter\" folder. For instance, for Cher I would create a file named `cher_followers.txt`. As you pull the data, also store it in an object like a list or a data frame."
   ]
  },
  {
   "cell_type": "code",
   "execution_count": 12,
   "id": "ad5d24ae",
   "metadata": {},
   "outputs": [],
   "source": [
    "num_followers_to_pull = 1*1000 # feel free to use this to limit the number of followers you pull."
   ]
  },
  {
   "cell_type": "code",
   "execution_count": 13,
   "id": "7ac06010",
   "metadata": {},
   "outputs": [
    {
     "name": "stdout",
     "output_type": "stream",
     "text": [
      "pulling followers for rihanna.\n",
      "loaded in 5000accounts...\n",
      "finished pulling followers for rihanna.\n",
      "writing rihanna followers info to file: twitter/rihanna_followers.txt\n",
      "pulling followers for heisrema.\n",
      "loaded in 5000accounts...\n",
      "finished pulling followers for heisrema.\n",
      "writing heisrema followers info to file: twitter/heisrema_followers.txt\n",
      "0:00:00.456388\n",
      "all_followers 10000\n"
     ]
    }
   ],
   "source": [
    "# Modify the below code stub to pull the follower IDs and write them to a file. \n",
    "\n",
    "# Grabs the time when we start making requests to the API\n",
    "start_time = datetime.datetime.now()\n",
    "all_followers = []\n",
    "for handle in handles :\n",
    "    \n",
    "    output_file =  'twitter/'+ handle + \"_followers.txt\"\n",
    "    print(f'pulling followers for {handle}.')\n",
    "    \n",
    "    # Pull and store the follower IDs\n",
    "    followers = []\n",
    "    for page in tweepy.Cursor(api.get_follower_ids,screen_name=handle).pages():\n",
    "        # The page variable comes back as a list, so we have to use .extend rather than .append\n",
    "        followers.extend(page)\n",
    "        all_followers.extend(page)\n",
    "        \n",
    "        print(f'loaded in {len(followers)}accounts...')\n",
    "        \n",
    "        # If you've pulled num_followers_to_pull, feel free to break out paged twitter API response\n",
    "        if len(followers) >= num_followers_to_pull:\n",
    "            break\n",
    "            \n",
    "        time.sleep(30)\n",
    "        \n",
    "    print(f'finished pulling followers for {handle}.')\n",
    "    \n",
    "    print(f'writing {handle} followers info to file: {output_file}')\n",
    "    # Write the IDs to the output file in the `twitter` folder.        \n",
    "    with open(output_file, 'w') as f:\n",
    "        for follower in followers:\n",
    "            f.write(str(follower)+'\\n')\n",
    "        \n",
    "            \n",
    "        \n",
    "        \n",
    "# Let's see how long it took to grab all follower IDs\n",
    "end_time = datetime.datetime.now()\n",
    "print(end_time - start_time)\n",
    "print(f'all_followers {len(all_followers)}')\n",
    "\n"
   ]
  },
  {
   "cell_type": "markdown",
   "id": "b1b98e1d",
   "metadata": {},
   "source": [
    "Now that you have your follower ids, gather some information that we can use in future assignments on them. Using the `lookup_users` function, pull the user objects for your followers. These requests are limited to 900 per 15 minutes, but you can request 100 users at a time. At 90,000 users per 15 minutes, the rate limiter on pulls might be bandwidth rather than API limits. \n",
    "\n",
    "Extract the following fields from the user object: \n",
    "\n",
    "* screen_name\t\n",
    "* name\t\n",
    "* id\t\n",
    "* location\t\n",
    "* followers_count\t\n",
    "* friends_count\t\n",
    "* description\n",
    "\n",
    "These can all be accessed via these names in the object. Store the fields with one user per row in a tab-delimited text file with the name `[artist name]_follower_data.txt`. For instance, for Cher I would create a file named `cher_follower_data.txt`. \n"
   ]
  },
  {
   "cell_type": "code",
   "execution_count": 14,
   "id": "3807ee5e",
   "metadata": {},
   "outputs": [
    {
     "name": "stdout",
     "output_type": "stream",
     "text": [
      " Volume in drive C has no label.\n",
      " Volume Serial Number is B890-5C73\n",
      "\n",
      " Directory of C:\\Users\\sheri\\twitter\n",
      "\n",
      "05/17/2022  01:20 AM    <DIR>          .\n",
      "05/17/2022  01:20 AM    <DIR>          ..\n",
      "05/17/2022  07:34 PM           103,630 heisrema_followers.txt\n",
      "05/17/2022  09:23 AM           424,223 heisrema_followers_data.txt\n",
      "05/17/2022  07:34 PM           103,668 rihanna_followers.txt\n",
      "05/17/2022  09:22 AM           354,847 rihanna_followers_data.txt\n",
      "               4 File(s)        986,368 bytes\n",
      "               2 Dir(s)  117,028,769,792 bytes free\n"
     ]
    }
   ],
   "source": [
    "ls twitter"
   ]
  },
  {
   "cell_type": "code",
   "execution_count": 15,
   "id": "12afa06c",
   "metadata": {},
   "outputs": [],
   "source": [
    "n_followers = 6000\n",
    "all_followers = {}\n",
    "for handle in handles:\n",
    "    with open(f'twitter/{handle}_followers.txt', 'r') as f:\n",
    "        all_followers[handle] = f.read().split('\\n')[:n_followers] # limit number of followers"
   ]
  },
  {
   "cell_type": "code",
   "execution_count": 16,
   "id": "2bdd0f02",
   "metadata": {},
   "outputs": [
    {
     "data": {
      "text/plain": [
       "dict_keys(['rihanna', 'heisrema'])"
      ]
     },
     "execution_count": 16,
     "metadata": {},
     "output_type": "execute_result"
    }
   ],
   "source": [
    "all_followers.keys()"
   ]
  },
  {
   "cell_type": "code",
   "execution_count": 17,
   "id": "da179969",
   "metadata": {},
   "outputs": [
    {
     "name": "stdout",
     "output_type": "stream",
     "text": [
      "Getting rihanna follower data\n",
      "pages: 51\n",
      "follower_ids_subset: 100\n",
      "obtained page :1,  users:100\n",
      "follower_ids_subset: 100\n",
      "obtained page :2,  users:200\n",
      "follower_ids_subset: 100\n",
      "obtained page :3,  users:300\n",
      "follower_ids_subset: 100\n",
      "obtained page :4,  users:400\n",
      "follower_ids_subset: 100\n",
      "obtained page :5,  users:500\n",
      "follower_ids_subset: 100\n",
      "obtained page :6,  users:600\n",
      "follower_ids_subset: 100\n",
      "obtained page :7,  users:700\n",
      "follower_ids_subset: 100\n",
      "obtained page :8,  users:800\n",
      "follower_ids_subset: 100\n",
      "obtained page :9,  users:900\n",
      "follower_ids_subset: 100\n",
      "obtained page :10,  users:1000\n",
      "follower_ids_subset: 100\n",
      "obtained page :11,  users:1100\n",
      "follower_ids_subset: 100\n",
      "obtained page :12,  users:1200\n",
      "follower_ids_subset: 100\n",
      "obtained page :13,  users:1300\n",
      "follower_ids_subset: 100\n",
      "obtained page :14,  users:1400\n",
      "follower_ids_subset: 100\n",
      "obtained page :15,  users:1500\n",
      "follower_ids_subset: 100\n",
      "obtained page :16,  users:1600\n",
      "follower_ids_subset: 100\n",
      "obtained page :17,  users:1700\n",
      "follower_ids_subset: 100\n",
      "obtained page :18,  users:1800\n",
      "follower_ids_subset: 100\n",
      "obtained page :19,  users:1900\n",
      "follower_ids_subset: 100\n",
      "obtained page :20,  users:2000\n",
      "follower_ids_subset: 100\n",
      "obtained page :21,  users:2100\n",
      "follower_ids_subset: 100\n",
      "obtained page :22,  users:2200\n",
      "follower_ids_subset: 100\n",
      "obtained page :23,  users:2300\n",
      "follower_ids_subset: 100\n",
      "obtained page :24,  users:2400\n",
      "follower_ids_subset: 100\n",
      "obtained page :25,  users:2500\n",
      "follower_ids_subset: 100\n",
      "obtained page :26,  users:2600\n",
      "follower_ids_subset: 100\n",
      "obtained page :27,  users:2700\n",
      "follower_ids_subset: 100\n",
      "obtained page :28,  users:2800\n",
      "follower_ids_subset: 100\n",
      "obtained page :29,  users:2900\n",
      "follower_ids_subset: 100\n",
      "obtained page :30,  users:3000\n",
      "follower_ids_subset: 100\n",
      "obtained page :31,  users:3100\n",
      "follower_ids_subset: 100\n",
      "obtained page :32,  users:3200\n",
      "follower_ids_subset: 100\n",
      "obtained page :33,  users:3300\n",
      "follower_ids_subset: 100\n",
      "obtained page :34,  users:3400\n",
      "follower_ids_subset: 100\n",
      "obtained page :35,  users:3500\n",
      "follower_ids_subset: 100\n",
      "obtained page :36,  users:3600\n",
      "follower_ids_subset: 100\n",
      "obtained page :37,  users:3700\n",
      "follower_ids_subset: 100\n",
      "obtained page :38,  users:3800\n",
      "follower_ids_subset: 100\n",
      "obtained page :39,  users:3900\n",
      "follower_ids_subset: 100\n",
      "obtained page :40,  users:4000\n",
      "follower_ids_subset: 100\n",
      "obtained page :41,  users:4100\n",
      "follower_ids_subset: 100\n",
      "obtained page :42,  users:4200\n",
      "follower_ids_subset: 100\n",
      "obtained page :43,  users:4300\n",
      "follower_ids_subset: 100\n",
      "obtained page :44,  users:4400\n",
      "follower_ids_subset: 100\n",
      "obtained page :45,  users:4500\n",
      "follower_ids_subset: 100\n",
      "obtained page :46,  users:4600\n",
      "follower_ids_subset: 100\n",
      "obtained page :47,  users:4700\n",
      "follower_ids_subset: 100\n",
      "obtained page :48,  users:4800\n",
      "follower_ids_subset: 100\n",
      "obtained page :49,  users:4900\n",
      "follower_ids_subset: 100\n",
      "obtained page :50,  users:5000\n",
      "follower_ids_subset: 100\n",
      "obtained page :51,  users:5100\n",
      "\n",
      "Getting heisrema follower data\n",
      "pages: 51\n",
      "follower_ids_subset: 100\n",
      "obtained page :1,  users:100\n",
      "follower_ids_subset: 100\n",
      "obtained page :2,  users:200\n",
      "follower_ids_subset: 100\n",
      "obtained page :3,  users:300\n",
      "follower_ids_subset: 100\n",
      "obtained page :4,  users:400\n",
      "follower_ids_subset: 100\n",
      "obtained page :5,  users:500\n",
      "follower_ids_subset: 100\n",
      "obtained page :6,  users:600\n",
      "follower_ids_subset: 100\n",
      "obtained page :7,  users:700\n",
      "follower_ids_subset: 100\n",
      "obtained page :8,  users:800\n",
      "follower_ids_subset: 100\n",
      "obtained page :9,  users:900\n",
      "follower_ids_subset: 100\n",
      "obtained page :10,  users:1000\n",
      "follower_ids_subset: 100\n",
      "obtained page :11,  users:1100\n",
      "follower_ids_subset: 100\n",
      "obtained page :12,  users:1200\n",
      "follower_ids_subset: 100\n",
      "obtained page :13,  users:1300\n",
      "follower_ids_subset: 100\n",
      "obtained page :14,  users:1400\n",
      "follower_ids_subset: 100\n",
      "obtained page :15,  users:1500\n",
      "follower_ids_subset: 100\n",
      "obtained page :16,  users:1600\n",
      "follower_ids_subset: 100\n",
      "obtained page :17,  users:1700\n",
      "follower_ids_subset: 100\n",
      "obtained page :18,  users:1800\n",
      "follower_ids_subset: 100\n",
      "obtained page :19,  users:1900\n",
      "follower_ids_subset: 100\n",
      "obtained page :20,  users:2000\n",
      "follower_ids_subset: 100\n",
      "obtained page :21,  users:2100\n",
      "follower_ids_subset: 100\n",
      "obtained page :22,  users:2200\n",
      "follower_ids_subset: 100\n",
      "obtained page :23,  users:2300\n",
      "follower_ids_subset: 100\n",
      "obtained page :24,  users:2400\n",
      "follower_ids_subset: 100\n",
      "obtained page :25,  users:2500\n",
      "follower_ids_subset: 100\n",
      "obtained page :26,  users:2600\n",
      "follower_ids_subset: 100\n",
      "obtained page :27,  users:2700\n",
      "follower_ids_subset: 100\n",
      "obtained page :28,  users:2800\n",
      "follower_ids_subset: 100\n",
      "obtained page :29,  users:2900\n",
      "follower_ids_subset: 100\n",
      "obtained page :30,  users:3000\n",
      "follower_ids_subset: 100\n",
      "obtained page :31,  users:3100\n",
      "follower_ids_subset: 100\n",
      "obtained page :32,  users:3200\n",
      "follower_ids_subset: 100\n",
      "obtained page :33,  users:3300\n",
      "follower_ids_subset: 100\n",
      "obtained page :34,  users:3400\n",
      "follower_ids_subset: 100\n",
      "obtained page :35,  users:3500\n",
      "follower_ids_subset: 100\n",
      "obtained page :36,  users:3600\n",
      "follower_ids_subset: 100\n",
      "obtained page :37,  users:3700\n",
      "follower_ids_subset: 100\n",
      "obtained page :38,  users:3800\n",
      "follower_ids_subset: 100\n",
      "obtained page :39,  users:3900\n",
      "follower_ids_subset: 100\n",
      "obtained page :40,  users:4000\n",
      "follower_ids_subset: 100\n",
      "obtained page :41,  users:4100\n",
      "follower_ids_subset: 100\n",
      "obtained page :42,  users:4200\n",
      "follower_ids_subset: 100\n",
      "obtained page :43,  users:4300\n",
      "follower_ids_subset: 100\n",
      "obtained page :44,  users:4400\n",
      "follower_ids_subset: 100\n",
      "obtained page :45,  users:4500\n",
      "follower_ids_subset: 100\n",
      "obtained page :46,  users:4600\n",
      "follower_ids_subset: 100\n",
      "obtained page :47,  users:4700\n",
      "follower_ids_subset: 100\n",
      "obtained page :48,  users:4800\n",
      "follower_ids_subset: 100\n",
      "obtained page :49,  users:4900\n",
      "follower_ids_subset: 100\n",
      "obtained page :50,  users:5000\n",
      "follower_ids_subset: 100\n",
      "obtained page :51,  users:5100\n",
      "\n"
     ]
    }
   ],
   "source": [
    "for handle in handles:\n",
    "    print(f'Getting {handle} follower data')\n",
    "    # in this cell, do the following\n",
    "    # 1. Set up a data frame or dictionary to hold the user information\n",
    "    users_info = []\n",
    "    # 2. Use the `lookup_users` api function to pull sets of 100 users at a time\n",
    "\n",
    "    pages = len(all_followers[handle]) // 100 + 1\n",
    "    follower_users = []\n",
    "\n",
    "    print(f'pages: {pages}')\n",
    "    # get the user object for each foollower\n",
    "    for i in range(pages):\n",
    "\n",
    "        follower_ids_subset = all_followers[handle][i:i+100]\n",
    "\n",
    "        print(f'follower_ids_subset: {len(follower_ids_subset)}')\n",
    "\n",
    "        #grab users for these 100 or less followers\n",
    "        user_results = api.lookup_users(user_id=follower_ids_subset)#issue with call : positional argument error\n",
    "\n",
    "        follower_users.extend(user_results)\n",
    "\n",
    "        print(f'obtained page :{i+1},  users:{len(follower_users)}')\n",
    "\n",
    "        if len(follower_users)% 90_000 == 0:\n",
    "            time.sleep(60*15)\n",
    "\n",
    "\n",
    "    # for follower_user in follower_users:\n",
    "    # 3. Store the listed fields in your data frame or dictionary.\n",
    "    items = ['screen_name', 'name', 'id', 'location', 'followers_count',\n",
    "             'friends_count', 'description']\n",
    "    fields = []\n",
    "    for follower_user in follower_users:\n",
    "        fields.append({x: follower_user._json[x] for x in items})       \n",
    "    follower_df = pd.DataFrame(fields)\n",
    "    \n",
    "    # clean tabs based on the following instruction\n",
    "    follower_df['description'] = follower_df['description'].apply(lambda x: re.sub(r\"\\s+\",\" \",x))\n",
    "\n",
    "    \n",
    "    # 4. Write the user information in tab-delimited form to the follower data text file. \n",
    "    follower_df.to_csv(f'twitter/{handle}_followers_data.txt', index=False, sep='\\t')\n",
    "    print()"
   ]
  },
  {
   "cell_type": "markdown",
   "id": "18309057",
   "metadata": {},
   "source": [
    "One note: the user's description can have tabs or returns in it, so make sure to clean those out of the description before writing them to the file. Here's an example of how you might do this. "
   ]
  },
  {
   "cell_type": "code",
   "execution_count": 18,
   "id": "2311694f",
   "metadata": {},
   "outputs": [
    {
     "data": {
      "text/plain": [
       "' Home by Warsan Shire no one leaves home unless home is the mouth of a shark. you only run for the border when you see the whole city running as well. '"
      ]
     },
     "execution_count": 18,
     "metadata": {},
     "output_type": "execute_result"
    }
   ],
   "source": [
    "tricky_description = \"\"\"\n",
    "    Home by Warsan Shire\n",
    "    \n",
    "    no one leaves home unless\n",
    "    home is the mouth of a shark.\n",
    "    you only run for the border\n",
    "    when you see the whole city\n",
    "    running as well.\n",
    "\n",
    "\"\"\"\n",
    "# This won't work in a tab-delimited text file.\n",
    "\n",
    "clean_description = re.sub(r\"\\s+\",\" \",tricky_description)\n",
    "clean_description"
   ]
  },
  {
   "cell_type": "code",
   "execution_count": null,
   "id": "fe4de3c3",
   "metadata": {},
   "outputs": [],
   "source": []
  },
  {
   "cell_type": "markdown",
   "id": "45c13af3",
   "metadata": {},
   "source": [
    "---\n",
    "\n",
    "# Lyrics Scrape\n",
    "\n",
    "This section asks you to pull data from the Twitter API and scrape www.AZLyrics.com. In the notebooks where you do that work you are asked to store the data in specific ways. "
   ]
  },
  {
   "cell_type": "code",
   "execution_count": 19,
   "id": "112e1411",
   "metadata": {},
   "outputs": [],
   "source": [
    "# for the twitter section\n",
    "import tweepy\n",
    "import os\n",
    "import datetime\n",
    "import re\n",
    "from pprint import pprint\n",
    "\n",
    "# for the lyrics scrape section\n",
    "import requests\n",
    "import time\n",
    "from bs4 import BeautifulSoup\n",
    "import shutil\n",
    "from collections import defaultdict, Counter"
   ]
  },
  {
   "cell_type": "code",
   "execution_count": 20,
   "id": "5bd7df77",
   "metadata": {},
   "outputs": [],
   "source": [
    "artists = {'rihanna':\"https://www.azlyrics.com/r/rihanna.html\",\n",
    "           'rema':\"https://www.azlyrics.com/r/rema.html\"} \n",
    "# we'll use this dictionary to hold both the artist name and the link on AZlyrics"
   ]
  },
  {
   "cell_type": "markdown",
   "id": "c236c99b",
   "metadata": {},
   "source": [
    "## A Note on Rate Limiting\n",
    "\n",
    "The lyrics site, www.azlyrics.com, does not have an explicit maximum on number of requests in any one time, but in our testing it appears that too many requests in too short a time will cause the site to stop returning lyrics pages. (Entertainingly, the page that gets returned seems to only have the song title to [a Tom Jones song](https://www.azlyrics.com/lyrics/tomjones/itsnotunusual.html).) \n",
    "\n",
    "Whenever you call `requests.get` to retrieve a page, put a `time.sleep(5 + 10*random.random())` on the next line. This will help you not to get blocked. If you _do_ get blocked, which you can identify if the returned pages are not correct, just request a lyrics page through your browser. You'll be asked to perform a CAPTCHA and then your requests should start working again. \n",
    "\n",
    "## Part 1: Finding Links to Songs Lyrics\n",
    "\n",
    "That general artist page has a list of all songs for that artist with links to the individual song pages. \n",
    "\n",
    "Q: Take a look at the `robots.txt` page on www.azlyrics.com. (You can read more about these pages [here](https://developers.google.com/search/docs/advanced/robots/intro).) Is the scraping we are about to do allowed or disallowed by this page? How do you know? \n",
    "\n",
    "A: <User-agent: *\n",
    "\n",
    "\n",
    "Disallow: /lyricsdb/\n",
    "\n",
    "\n",
    "Disallow: /song/\n",
    "\n",
    "\n",
    "Allow: /\n",
    "\n",
    "\n",
    "User-agent: 008\n",
    "\n",
    "Disallow: /> \n",
    "\n",
    "Based on the robots.txt it is disallowed\n"
   ]
  },
  {
   "cell_type": "code",
   "execution_count": 21,
   "id": "3cc2d9fa",
   "metadata": {},
   "outputs": [],
   "source": [
    "# Let's set up a dictionary of lists to hold our links\n",
    "from lxml import html\n",
    "import random\n",
    "import requests \n",
    "lyrics_pages = defaultdict(list)\n",
    "\n",
    "for artist, artist_page in artists.items() :\n",
    "    # request the page and sleep\n",
    "    r = requests.get(artist_page)\n",
    "    webpage = html.fromstring(r.content)\n",
    "    #get all the links in the artist page and slice out the links that are not necessary\n",
    "    links = webpage.xpath('//a/@href')[31:-8]\n",
    "    lyrics_pages[artist] = links\n",
    "    time.sleep(5 + 10*random.random())\n",
    "    "
   ]
  },
  {
   "cell_type": "code",
   "execution_count": 22,
   "id": "36e329c1",
   "metadata": {},
   "outputs": [],
   "source": [
    "#soup=BeautifulSoup(r.content,'html.parser')"
   ]
  },
  {
   "cell_type": "code",
   "execution_count": 23,
   "id": "6a4ab3eb",
   "metadata": {},
   "outputs": [],
   "source": [
    "#soup.find_all('a')"
   ]
  },
  {
   "cell_type": "code",
   "execution_count": 24,
   "id": "39590e54",
   "metadata": {},
   "outputs": [
    {
     "name": "stdout",
     "output_type": "stream",
     "text": [
      "39\n"
     ]
    }
   ],
   "source": [
    "print(len(lyrics_pages['rema']))"
   ]
  },
  {
   "cell_type": "markdown",
   "id": "9c285ec1",
   "metadata": {},
   "source": [
    "Let's make sure we have enough lyrics pages to scrape. "
   ]
  },
  {
   "cell_type": "code",
   "execution_count": 25,
   "id": "ae4cda68",
   "metadata": {},
   "outputs": [],
   "source": [
    "for artist, lp in lyrics_pages.items() :\n",
    "    assert(len(set(lp)) > 20) \n",
    "         "
   ]
  },
  {
   "cell_type": "code",
   "execution_count": 26,
   "id": "edca10d6",
   "metadata": {},
   "outputs": [
    {
     "name": "stdout",
     "output_type": "stream",
     "text": [
      "For rihanna we have 164.\n",
      "The full pull will take for this artist will take 0.46 hours.\n",
      "For rema we have 39.\n",
      "The full pull will take for this artist will take 0.11 hours.\n"
     ]
    }
   ],
   "source": [
    "# Let's see how long it's going to take to pull these lyrics \n",
    "# if we're waiting `5 + 10*random.random()` seconds \n",
    "for artist, links in lyrics_pages.items() : \n",
    "    print(f\"For {artist} we have {len(links)}.\")\n",
    "    print(f\"The full pull will take for this artist will take {round(len(links)*10/3600,2)} hours.\")"
   ]
  },
  {
   "cell_type": "markdown",
   "id": "011be6c6",
   "metadata": {},
   "source": [
    "## Part 2: Pulling Lyrics\n",
    "\n",
    "Now that we have the links to our lyrics pages, let's go scrape them! Here are the steps for this part. \n",
    "\n",
    "1. Create an empty folder in our repo called \"lyrics\". \n",
    "1. Iterate over the artists in `lyrics_pages`. \n",
    "1. Create a subfolder in lyrics with the artist's name. For instance, if the artist was Cher you'd have `lyrics/cher/` in your repo.\n",
    "1. Iterate over the pages. \n",
    "1. Request the page and extract the lyrics from the returned HTML file using BeautifulSoup.\n",
    "1. Use the function below, `generate_filename_from_url`, to create a filename based on the lyrics page, then write the lyrics to a text file with that name. \n"
   ]
  },
  {
   "cell_type": "code",
   "execution_count": 27,
   "id": "67693711",
   "metadata": {},
   "outputs": [],
   "source": [
    "def generate_filename_from_link(link) :\n",
    "    \n",
    "    if not link :\n",
    "        return None\n",
    "    \n",
    "    # drop the http or https and the html\n",
    "    name = link.replace(\"https\",\"\").replace(\"http\",\"\")\n",
    "    name = link.replace(\".html\",\"\")\n",
    "\n",
    "    name = name.replace(\"/lyrics/\",\"\")\n",
    "    \n",
    "    # Replace useless chareacters with UNDERSCORE\n",
    "    name = name.replace(\"://\",\"\").replace(\".\",\"_\").replace(\"/\",\"_\")\n",
    "    \n",
    "    # tack on .txt\n",
    "    name = name + \".txt\"\n",
    "    \n",
    "    return(name)\n"
   ]
  },
  {
   "cell_type": "code",
   "execution_count": 28,
   "id": "94a78c78",
   "metadata": {},
   "outputs": [],
   "source": [
    "# Make the lyrics folder here. If you'd like to practice your programming, add functionality \n",
    "# that checks to see if the folder exists. If it does, then use shutil.rmtree to remove it and create a new one.\n",
    "\n",
    "if os.path.isdir(\"lyrics\") : \n",
    "    shutil.rmtree(\"lyrics/\")\n",
    "\n",
    "os.mkdir(\"lyrics\")"
   ]
  },
  {
   "cell_type": "code",
   "execution_count": 29,
   "id": "90e977fb",
   "metadata": {},
   "outputs": [],
   "source": [
    "#changing to the 'lyrics' folder\n",
    "os.chdir('./lyrics')"
   ]
  },
  {
   "cell_type": "code",
   "execution_count": 30,
   "id": "fed6c81c",
   "metadata": {},
   "outputs": [
    {
     "data": {
      "text/plain": [
       "'C:\\\\Users\\\\sheri\\\\lyrics'"
      ]
     },
     "execution_count": 30,
     "metadata": {},
     "output_type": "execute_result"
    }
   ],
   "source": [
    "os.getcwd()"
   ]
  },
  {
   "cell_type": "code",
   "execution_count": 31,
   "id": "09a58cde",
   "metadata": {},
   "outputs": [
    {
     "ename": "ConnectionError",
     "evalue": "HTTPSConnectionPool(host='www.azlyrics.comhttps', port=443): Max retries exceeded with url: //www.azlyrics.com/lyrics/partynextdoor/believeit.html (Caused by NewConnectionError('<urllib3.connection.HTTPSConnection object at 0x000002B944B175B0>: Failed to establish a new connection: [Errno 11001] getaddrinfo failed'))",
     "output_type": "error",
     "traceback": [
      "\u001b[1;31m---------------------------------------------------------------------------\u001b[0m",
      "\u001b[1;31mgaierror\u001b[0m                                  Traceback (most recent call last)",
      "\u001b[1;32m~\\anaconda3\\anaconda_64\\lib\\site-packages\\urllib3\\connection.py\u001b[0m in \u001b[0;36m_new_conn\u001b[1;34m(self)\u001b[0m\n\u001b[0;32m    168\u001b[0m         \u001b[1;32mtry\u001b[0m\u001b[1;33m:\u001b[0m\u001b[1;33m\u001b[0m\u001b[1;33m\u001b[0m\u001b[0m\n\u001b[1;32m--> 169\u001b[1;33m             conn = connection.create_connection(\n\u001b[0m\u001b[0;32m    170\u001b[0m                 \u001b[1;33m(\u001b[0m\u001b[0mself\u001b[0m\u001b[1;33m.\u001b[0m\u001b[0m_dns_host\u001b[0m\u001b[1;33m,\u001b[0m \u001b[0mself\u001b[0m\u001b[1;33m.\u001b[0m\u001b[0mport\u001b[0m\u001b[1;33m)\u001b[0m\u001b[1;33m,\u001b[0m \u001b[0mself\u001b[0m\u001b[1;33m.\u001b[0m\u001b[0mtimeout\u001b[0m\u001b[1;33m,\u001b[0m \u001b[1;33m**\u001b[0m\u001b[0mextra_kw\u001b[0m\u001b[1;33m\u001b[0m\u001b[1;33m\u001b[0m\u001b[0m\n",
      "\u001b[1;32m~\\anaconda3\\anaconda_64\\lib\\site-packages\\urllib3\\util\\connection.py\u001b[0m in \u001b[0;36mcreate_connection\u001b[1;34m(address, timeout, source_address, socket_options)\u001b[0m\n\u001b[0;32m     72\u001b[0m \u001b[1;33m\u001b[0m\u001b[0m\n\u001b[1;32m---> 73\u001b[1;33m     \u001b[1;32mfor\u001b[0m \u001b[0mres\u001b[0m \u001b[1;32min\u001b[0m \u001b[0msocket\u001b[0m\u001b[1;33m.\u001b[0m\u001b[0mgetaddrinfo\u001b[0m\u001b[1;33m(\u001b[0m\u001b[0mhost\u001b[0m\u001b[1;33m,\u001b[0m \u001b[0mport\u001b[0m\u001b[1;33m,\u001b[0m \u001b[0mfamily\u001b[0m\u001b[1;33m,\u001b[0m \u001b[0msocket\u001b[0m\u001b[1;33m.\u001b[0m\u001b[0mSOCK_STREAM\u001b[0m\u001b[1;33m)\u001b[0m\u001b[1;33m:\u001b[0m\u001b[1;33m\u001b[0m\u001b[1;33m\u001b[0m\u001b[0m\n\u001b[0m\u001b[0;32m     74\u001b[0m         \u001b[0maf\u001b[0m\u001b[1;33m,\u001b[0m \u001b[0msocktype\u001b[0m\u001b[1;33m,\u001b[0m \u001b[0mproto\u001b[0m\u001b[1;33m,\u001b[0m \u001b[0mcanonname\u001b[0m\u001b[1;33m,\u001b[0m \u001b[0msa\u001b[0m \u001b[1;33m=\u001b[0m \u001b[0mres\u001b[0m\u001b[1;33m\u001b[0m\u001b[1;33m\u001b[0m\u001b[0m\n",
      "\u001b[1;32m~\\anaconda3\\anaconda_64\\lib\\socket.py\u001b[0m in \u001b[0;36mgetaddrinfo\u001b[1;34m(host, port, family, type, proto, flags)\u001b[0m\n\u001b[0;32m    917\u001b[0m     \u001b[0maddrlist\u001b[0m \u001b[1;33m=\u001b[0m \u001b[1;33m[\u001b[0m\u001b[1;33m]\u001b[0m\u001b[1;33m\u001b[0m\u001b[1;33m\u001b[0m\u001b[0m\n\u001b[1;32m--> 918\u001b[1;33m     \u001b[1;32mfor\u001b[0m \u001b[0mres\u001b[0m \u001b[1;32min\u001b[0m \u001b[0m_socket\u001b[0m\u001b[1;33m.\u001b[0m\u001b[0mgetaddrinfo\u001b[0m\u001b[1;33m(\u001b[0m\u001b[0mhost\u001b[0m\u001b[1;33m,\u001b[0m \u001b[0mport\u001b[0m\u001b[1;33m,\u001b[0m \u001b[0mfamily\u001b[0m\u001b[1;33m,\u001b[0m \u001b[0mtype\u001b[0m\u001b[1;33m,\u001b[0m \u001b[0mproto\u001b[0m\u001b[1;33m,\u001b[0m \u001b[0mflags\u001b[0m\u001b[1;33m)\u001b[0m\u001b[1;33m:\u001b[0m\u001b[1;33m\u001b[0m\u001b[1;33m\u001b[0m\u001b[0m\n\u001b[0m\u001b[0;32m    919\u001b[0m         \u001b[0maf\u001b[0m\u001b[1;33m,\u001b[0m \u001b[0msocktype\u001b[0m\u001b[1;33m,\u001b[0m \u001b[0mproto\u001b[0m\u001b[1;33m,\u001b[0m \u001b[0mcanonname\u001b[0m\u001b[1;33m,\u001b[0m \u001b[0msa\u001b[0m \u001b[1;33m=\u001b[0m \u001b[0mres\u001b[0m\u001b[1;33m\u001b[0m\u001b[1;33m\u001b[0m\u001b[0m\n",
      "\u001b[1;31mgaierror\u001b[0m: [Errno 11001] getaddrinfo failed",
      "\nDuring handling of the above exception, another exception occurred:\n",
      "\u001b[1;31mNewConnectionError\u001b[0m                        Traceback (most recent call last)",
      "\u001b[1;32m~\\anaconda3\\anaconda_64\\lib\\site-packages\\urllib3\\connectionpool.py\u001b[0m in \u001b[0;36murlopen\u001b[1;34m(self, method, url, body, headers, retries, redirect, assert_same_host, timeout, pool_timeout, release_conn, chunked, body_pos, **response_kw)\u001b[0m\n\u001b[0;32m    698\u001b[0m             \u001b[1;31m# Make the request on the httplib connection object.\u001b[0m\u001b[1;33m\u001b[0m\u001b[1;33m\u001b[0m\u001b[1;33m\u001b[0m\u001b[0m\n\u001b[1;32m--> 699\u001b[1;33m             httplib_response = self._make_request(\n\u001b[0m\u001b[0;32m    700\u001b[0m                 \u001b[0mconn\u001b[0m\u001b[1;33m,\u001b[0m\u001b[1;33m\u001b[0m\u001b[1;33m\u001b[0m\u001b[0m\n",
      "\u001b[1;32m~\\anaconda3\\anaconda_64\\lib\\site-packages\\urllib3\\connectionpool.py\u001b[0m in \u001b[0;36m_make_request\u001b[1;34m(self, conn, method, url, timeout, chunked, **httplib_request_kw)\u001b[0m\n\u001b[0;32m    381\u001b[0m         \u001b[1;32mtry\u001b[0m\u001b[1;33m:\u001b[0m\u001b[1;33m\u001b[0m\u001b[1;33m\u001b[0m\u001b[0m\n\u001b[1;32m--> 382\u001b[1;33m             \u001b[0mself\u001b[0m\u001b[1;33m.\u001b[0m\u001b[0m_validate_conn\u001b[0m\u001b[1;33m(\u001b[0m\u001b[0mconn\u001b[0m\u001b[1;33m)\u001b[0m\u001b[1;33m\u001b[0m\u001b[1;33m\u001b[0m\u001b[0m\n\u001b[0m\u001b[0;32m    383\u001b[0m         \u001b[1;32mexcept\u001b[0m \u001b[1;33m(\u001b[0m\u001b[0mSocketTimeout\u001b[0m\u001b[1;33m,\u001b[0m \u001b[0mBaseSSLError\u001b[0m\u001b[1;33m)\u001b[0m \u001b[1;32mas\u001b[0m \u001b[0me\u001b[0m\u001b[1;33m:\u001b[0m\u001b[1;33m\u001b[0m\u001b[1;33m\u001b[0m\u001b[0m\n",
      "\u001b[1;32m~\\anaconda3\\anaconda_64\\lib\\site-packages\\urllib3\\connectionpool.py\u001b[0m in \u001b[0;36m_validate_conn\u001b[1;34m(self, conn)\u001b[0m\n\u001b[0;32m   1009\u001b[0m         \u001b[1;32mif\u001b[0m \u001b[1;32mnot\u001b[0m \u001b[0mgetattr\u001b[0m\u001b[1;33m(\u001b[0m\u001b[0mconn\u001b[0m\u001b[1;33m,\u001b[0m \u001b[1;34m\"sock\"\u001b[0m\u001b[1;33m,\u001b[0m \u001b[1;32mNone\u001b[0m\u001b[1;33m)\u001b[0m\u001b[1;33m:\u001b[0m  \u001b[1;31m# AppEngine might not have  `.sock`\u001b[0m\u001b[1;33m\u001b[0m\u001b[1;33m\u001b[0m\u001b[0m\n\u001b[1;32m-> 1010\u001b[1;33m             \u001b[0mconn\u001b[0m\u001b[1;33m.\u001b[0m\u001b[0mconnect\u001b[0m\u001b[1;33m(\u001b[0m\u001b[1;33m)\u001b[0m\u001b[1;33m\u001b[0m\u001b[1;33m\u001b[0m\u001b[0m\n\u001b[0m\u001b[0;32m   1011\u001b[0m \u001b[1;33m\u001b[0m\u001b[0m\n",
      "\u001b[1;32m~\\anaconda3\\anaconda_64\\lib\\site-packages\\urllib3\\connection.py\u001b[0m in \u001b[0;36mconnect\u001b[1;34m(self)\u001b[0m\n\u001b[0;32m    352\u001b[0m         \u001b[1;31m# Add certificate verification\u001b[0m\u001b[1;33m\u001b[0m\u001b[1;33m\u001b[0m\u001b[1;33m\u001b[0m\u001b[0m\n\u001b[1;32m--> 353\u001b[1;33m         \u001b[0mconn\u001b[0m \u001b[1;33m=\u001b[0m \u001b[0mself\u001b[0m\u001b[1;33m.\u001b[0m\u001b[0m_new_conn\u001b[0m\u001b[1;33m(\u001b[0m\u001b[1;33m)\u001b[0m\u001b[1;33m\u001b[0m\u001b[1;33m\u001b[0m\u001b[0m\n\u001b[0m\u001b[0;32m    354\u001b[0m         \u001b[0mhostname\u001b[0m \u001b[1;33m=\u001b[0m \u001b[0mself\u001b[0m\u001b[1;33m.\u001b[0m\u001b[0mhost\u001b[0m\u001b[1;33m\u001b[0m\u001b[1;33m\u001b[0m\u001b[0m\n",
      "\u001b[1;32m~\\anaconda3\\anaconda_64\\lib\\site-packages\\urllib3\\connection.py\u001b[0m in \u001b[0;36m_new_conn\u001b[1;34m(self)\u001b[0m\n\u001b[0;32m    180\u001b[0m         \u001b[1;32mexcept\u001b[0m \u001b[0mSocketError\u001b[0m \u001b[1;32mas\u001b[0m \u001b[0me\u001b[0m\u001b[1;33m:\u001b[0m\u001b[1;33m\u001b[0m\u001b[1;33m\u001b[0m\u001b[0m\n\u001b[1;32m--> 181\u001b[1;33m             raise NewConnectionError(\n\u001b[0m\u001b[0;32m    182\u001b[0m                 \u001b[0mself\u001b[0m\u001b[1;33m,\u001b[0m \u001b[1;34m\"Failed to establish a new connection: %s\"\u001b[0m \u001b[1;33m%\u001b[0m \u001b[0me\u001b[0m\u001b[1;33m\u001b[0m\u001b[1;33m\u001b[0m\u001b[0m\n",
      "\u001b[1;31mNewConnectionError\u001b[0m: <urllib3.connection.HTTPSConnection object at 0x000002B944B175B0>: Failed to establish a new connection: [Errno 11001] getaddrinfo failed",
      "\nDuring handling of the above exception, another exception occurred:\n",
      "\u001b[1;31mMaxRetryError\u001b[0m                             Traceback (most recent call last)",
      "\u001b[1;32m~\\anaconda3\\anaconda_64\\lib\\site-packages\\requests\\adapters.py\u001b[0m in \u001b[0;36msend\u001b[1;34m(self, request, stream, timeout, verify, cert, proxies)\u001b[0m\n\u001b[0;32m    439\u001b[0m             \u001b[1;32mif\u001b[0m \u001b[1;32mnot\u001b[0m \u001b[0mchunked\u001b[0m\u001b[1;33m:\u001b[0m\u001b[1;33m\u001b[0m\u001b[1;33m\u001b[0m\u001b[0m\n\u001b[1;32m--> 440\u001b[1;33m                 resp = conn.urlopen(\n\u001b[0m\u001b[0;32m    441\u001b[0m                     \u001b[0mmethod\u001b[0m\u001b[1;33m=\u001b[0m\u001b[0mrequest\u001b[0m\u001b[1;33m.\u001b[0m\u001b[0mmethod\u001b[0m\u001b[1;33m,\u001b[0m\u001b[1;33m\u001b[0m\u001b[1;33m\u001b[0m\u001b[0m\n",
      "\u001b[1;32m~\\anaconda3\\anaconda_64\\lib\\site-packages\\urllib3\\connectionpool.py\u001b[0m in \u001b[0;36murlopen\u001b[1;34m(self, method, url, body, headers, retries, redirect, assert_same_host, timeout, pool_timeout, release_conn, chunked, body_pos, **response_kw)\u001b[0m\n\u001b[0;32m    754\u001b[0m \u001b[1;33m\u001b[0m\u001b[0m\n\u001b[1;32m--> 755\u001b[1;33m             retries = retries.increment(\n\u001b[0m\u001b[0;32m    756\u001b[0m                 \u001b[0mmethod\u001b[0m\u001b[1;33m,\u001b[0m \u001b[0murl\u001b[0m\u001b[1;33m,\u001b[0m \u001b[0merror\u001b[0m\u001b[1;33m=\u001b[0m\u001b[0me\u001b[0m\u001b[1;33m,\u001b[0m \u001b[0m_pool\u001b[0m\u001b[1;33m=\u001b[0m\u001b[0mself\u001b[0m\u001b[1;33m,\u001b[0m \u001b[0m_stacktrace\u001b[0m\u001b[1;33m=\u001b[0m\u001b[0msys\u001b[0m\u001b[1;33m.\u001b[0m\u001b[0mexc_info\u001b[0m\u001b[1;33m(\u001b[0m\u001b[1;33m)\u001b[0m\u001b[1;33m[\u001b[0m\u001b[1;36m2\u001b[0m\u001b[1;33m]\u001b[0m\u001b[1;33m\u001b[0m\u001b[1;33m\u001b[0m\u001b[0m\n",
      "\u001b[1;32m~\\anaconda3\\anaconda_64\\lib\\site-packages\\urllib3\\util\\retry.py\u001b[0m in \u001b[0;36mincrement\u001b[1;34m(self, method, url, response, error, _pool, _stacktrace)\u001b[0m\n\u001b[0;32m    573\u001b[0m         \u001b[1;32mif\u001b[0m \u001b[0mnew_retry\u001b[0m\u001b[1;33m.\u001b[0m\u001b[0mis_exhausted\u001b[0m\u001b[1;33m(\u001b[0m\u001b[1;33m)\u001b[0m\u001b[1;33m:\u001b[0m\u001b[1;33m\u001b[0m\u001b[1;33m\u001b[0m\u001b[0m\n\u001b[1;32m--> 574\u001b[1;33m             \u001b[1;32mraise\u001b[0m \u001b[0mMaxRetryError\u001b[0m\u001b[1;33m(\u001b[0m\u001b[0m_pool\u001b[0m\u001b[1;33m,\u001b[0m \u001b[0murl\u001b[0m\u001b[1;33m,\u001b[0m \u001b[0merror\u001b[0m \u001b[1;32mor\u001b[0m \u001b[0mResponseError\u001b[0m\u001b[1;33m(\u001b[0m\u001b[0mcause\u001b[0m\u001b[1;33m)\u001b[0m\u001b[1;33m)\u001b[0m\u001b[1;33m\u001b[0m\u001b[1;33m\u001b[0m\u001b[0m\n\u001b[0m\u001b[0;32m    575\u001b[0m \u001b[1;33m\u001b[0m\u001b[0m\n",
      "\u001b[1;31mMaxRetryError\u001b[0m: HTTPSConnectionPool(host='www.azlyrics.comhttps', port=443): Max retries exceeded with url: //www.azlyrics.com/lyrics/partynextdoor/believeit.html (Caused by NewConnectionError('<urllib3.connection.HTTPSConnection object at 0x000002B944B175B0>: Failed to establish a new connection: [Errno 11001] getaddrinfo failed'))",
      "\nDuring handling of the above exception, another exception occurred:\n",
      "\u001b[1;31mConnectionError\u001b[0m                           Traceback (most recent call last)",
      "\u001b[1;32m<ipython-input-31-6f26e955300d>\u001b[0m in \u001b[0;36m<module>\u001b[1;34m\u001b[0m\n\u001b[0;32m     25\u001b[0m \u001b[1;33m\u001b[0m\u001b[0m\n\u001b[0;32m     26\u001b[0m         \u001b[1;31m# 3. Request the lyrics page.\u001b[0m\u001b[1;33m\u001b[0m\u001b[1;33m\u001b[0m\u001b[1;33m\u001b[0m\u001b[0m\n\u001b[1;32m---> 27\u001b[1;33m         \u001b[0mr\u001b[0m \u001b[1;33m=\u001b[0m \u001b[0mrequests\u001b[0m\u001b[1;33m.\u001b[0m\u001b[0mget\u001b[0m\u001b[1;33m(\u001b[0m\u001b[0murl_stub\u001b[0m\u001b[1;33m+\u001b[0m\u001b[0mlink\u001b[0m\u001b[1;33m)\u001b[0m\u001b[1;33m\u001b[0m\u001b[1;33m\u001b[0m\u001b[0m\n\u001b[0m\u001b[0;32m     28\u001b[0m         \u001b[0mwebpage\u001b[0m \u001b[1;33m=\u001b[0m \u001b[0mhtml\u001b[0m\u001b[1;33m.\u001b[0m\u001b[0mfromstring\u001b[0m\u001b[1;33m(\u001b[0m\u001b[0mr\u001b[0m\u001b[1;33m.\u001b[0m\u001b[0mcontent\u001b[0m\u001b[1;33m)\u001b[0m\u001b[1;33m\u001b[0m\u001b[1;33m\u001b[0m\u001b[0m\n\u001b[0;32m     29\u001b[0m         \u001b[1;31m#with open(name, 'w') as f:\u001b[0m\u001b[1;33m\u001b[0m\u001b[1;33m\u001b[0m\u001b[1;33m\u001b[0m\u001b[0m\n",
      "\u001b[1;32m~\\anaconda3\\anaconda_64\\lib\\site-packages\\requests\\api.py\u001b[0m in \u001b[0;36mget\u001b[1;34m(url, params, **kwargs)\u001b[0m\n\u001b[0;32m     73\u001b[0m     \"\"\"\n\u001b[0;32m     74\u001b[0m \u001b[1;33m\u001b[0m\u001b[0m\n\u001b[1;32m---> 75\u001b[1;33m     \u001b[1;32mreturn\u001b[0m \u001b[0mrequest\u001b[0m\u001b[1;33m(\u001b[0m\u001b[1;34m'get'\u001b[0m\u001b[1;33m,\u001b[0m \u001b[0murl\u001b[0m\u001b[1;33m,\u001b[0m \u001b[0mparams\u001b[0m\u001b[1;33m=\u001b[0m\u001b[0mparams\u001b[0m\u001b[1;33m,\u001b[0m \u001b[1;33m**\u001b[0m\u001b[0mkwargs\u001b[0m\u001b[1;33m)\u001b[0m\u001b[1;33m\u001b[0m\u001b[1;33m\u001b[0m\u001b[0m\n\u001b[0m\u001b[0;32m     76\u001b[0m \u001b[1;33m\u001b[0m\u001b[0m\n\u001b[0;32m     77\u001b[0m \u001b[1;33m\u001b[0m\u001b[0m\n",
      "\u001b[1;32m~\\anaconda3\\anaconda_64\\lib\\site-packages\\requests\\api.py\u001b[0m in \u001b[0;36mrequest\u001b[1;34m(method, url, **kwargs)\u001b[0m\n\u001b[0;32m     59\u001b[0m     \u001b[1;31m# cases, and look like a memory leak in others.\u001b[0m\u001b[1;33m\u001b[0m\u001b[1;33m\u001b[0m\u001b[1;33m\u001b[0m\u001b[0m\n\u001b[0;32m     60\u001b[0m     \u001b[1;32mwith\u001b[0m \u001b[0msessions\u001b[0m\u001b[1;33m.\u001b[0m\u001b[0mSession\u001b[0m\u001b[1;33m(\u001b[0m\u001b[1;33m)\u001b[0m \u001b[1;32mas\u001b[0m \u001b[0msession\u001b[0m\u001b[1;33m:\u001b[0m\u001b[1;33m\u001b[0m\u001b[1;33m\u001b[0m\u001b[0m\n\u001b[1;32m---> 61\u001b[1;33m         \u001b[1;32mreturn\u001b[0m \u001b[0msession\u001b[0m\u001b[1;33m.\u001b[0m\u001b[0mrequest\u001b[0m\u001b[1;33m(\u001b[0m\u001b[0mmethod\u001b[0m\u001b[1;33m=\u001b[0m\u001b[0mmethod\u001b[0m\u001b[1;33m,\u001b[0m \u001b[0murl\u001b[0m\u001b[1;33m=\u001b[0m\u001b[0murl\u001b[0m\u001b[1;33m,\u001b[0m \u001b[1;33m**\u001b[0m\u001b[0mkwargs\u001b[0m\u001b[1;33m)\u001b[0m\u001b[1;33m\u001b[0m\u001b[1;33m\u001b[0m\u001b[0m\n\u001b[0m\u001b[0;32m     62\u001b[0m \u001b[1;33m\u001b[0m\u001b[0m\n\u001b[0;32m     63\u001b[0m \u001b[1;33m\u001b[0m\u001b[0m\n",
      "\u001b[1;32m~\\anaconda3\\anaconda_64\\lib\\site-packages\\requests\\sessions.py\u001b[0m in \u001b[0;36mrequest\u001b[1;34m(self, method, url, params, data, headers, cookies, files, auth, timeout, allow_redirects, proxies, hooks, stream, verify, cert, json)\u001b[0m\n\u001b[0;32m    527\u001b[0m         }\n\u001b[0;32m    528\u001b[0m         \u001b[0msend_kwargs\u001b[0m\u001b[1;33m.\u001b[0m\u001b[0mupdate\u001b[0m\u001b[1;33m(\u001b[0m\u001b[0msettings\u001b[0m\u001b[1;33m)\u001b[0m\u001b[1;33m\u001b[0m\u001b[1;33m\u001b[0m\u001b[0m\n\u001b[1;32m--> 529\u001b[1;33m         \u001b[0mresp\u001b[0m \u001b[1;33m=\u001b[0m \u001b[0mself\u001b[0m\u001b[1;33m.\u001b[0m\u001b[0msend\u001b[0m\u001b[1;33m(\u001b[0m\u001b[0mprep\u001b[0m\u001b[1;33m,\u001b[0m \u001b[1;33m**\u001b[0m\u001b[0msend_kwargs\u001b[0m\u001b[1;33m)\u001b[0m\u001b[1;33m\u001b[0m\u001b[1;33m\u001b[0m\u001b[0m\n\u001b[0m\u001b[0;32m    530\u001b[0m \u001b[1;33m\u001b[0m\u001b[0m\n\u001b[0;32m    531\u001b[0m         \u001b[1;32mreturn\u001b[0m \u001b[0mresp\u001b[0m\u001b[1;33m\u001b[0m\u001b[1;33m\u001b[0m\u001b[0m\n",
      "\u001b[1;32m~\\anaconda3\\anaconda_64\\lib\\site-packages\\requests\\sessions.py\u001b[0m in \u001b[0;36msend\u001b[1;34m(self, request, **kwargs)\u001b[0m\n\u001b[0;32m    643\u001b[0m \u001b[1;33m\u001b[0m\u001b[0m\n\u001b[0;32m    644\u001b[0m         \u001b[1;31m# Send the request\u001b[0m\u001b[1;33m\u001b[0m\u001b[1;33m\u001b[0m\u001b[1;33m\u001b[0m\u001b[0m\n\u001b[1;32m--> 645\u001b[1;33m         \u001b[0mr\u001b[0m \u001b[1;33m=\u001b[0m \u001b[0madapter\u001b[0m\u001b[1;33m.\u001b[0m\u001b[0msend\u001b[0m\u001b[1;33m(\u001b[0m\u001b[0mrequest\u001b[0m\u001b[1;33m,\u001b[0m \u001b[1;33m**\u001b[0m\u001b[0mkwargs\u001b[0m\u001b[1;33m)\u001b[0m\u001b[1;33m\u001b[0m\u001b[1;33m\u001b[0m\u001b[0m\n\u001b[0m\u001b[0;32m    646\u001b[0m \u001b[1;33m\u001b[0m\u001b[0m\n\u001b[0;32m    647\u001b[0m         \u001b[1;31m# Total elapsed time of the request (approximately)\u001b[0m\u001b[1;33m\u001b[0m\u001b[1;33m\u001b[0m\u001b[1;33m\u001b[0m\u001b[0m\n",
      "\u001b[1;32m~\\anaconda3\\anaconda_64\\lib\\site-packages\\requests\\adapters.py\u001b[0m in \u001b[0;36msend\u001b[1;34m(self, request, stream, timeout, verify, cert, proxies)\u001b[0m\n\u001b[0;32m    517\u001b[0m                 \u001b[1;32mraise\u001b[0m \u001b[0mSSLError\u001b[0m\u001b[1;33m(\u001b[0m\u001b[0me\u001b[0m\u001b[1;33m,\u001b[0m \u001b[0mrequest\u001b[0m\u001b[1;33m=\u001b[0m\u001b[0mrequest\u001b[0m\u001b[1;33m)\u001b[0m\u001b[1;33m\u001b[0m\u001b[1;33m\u001b[0m\u001b[0m\n\u001b[0;32m    518\u001b[0m \u001b[1;33m\u001b[0m\u001b[0m\n\u001b[1;32m--> 519\u001b[1;33m             \u001b[1;32mraise\u001b[0m \u001b[0mConnectionError\u001b[0m\u001b[1;33m(\u001b[0m\u001b[0me\u001b[0m\u001b[1;33m,\u001b[0m \u001b[0mrequest\u001b[0m\u001b[1;33m=\u001b[0m\u001b[0mrequest\u001b[0m\u001b[1;33m)\u001b[0m\u001b[1;33m\u001b[0m\u001b[1;33m\u001b[0m\u001b[0m\n\u001b[0m\u001b[0;32m    520\u001b[0m \u001b[1;33m\u001b[0m\u001b[0m\n\u001b[0;32m    521\u001b[0m         \u001b[1;32mexcept\u001b[0m \u001b[0mClosedPoolError\u001b[0m \u001b[1;32mas\u001b[0m \u001b[0me\u001b[0m\u001b[1;33m:\u001b[0m\u001b[1;33m\u001b[0m\u001b[1;33m\u001b[0m\u001b[0m\n",
      "\u001b[1;31mConnectionError\u001b[0m: HTTPSConnectionPool(host='www.azlyrics.comhttps', port=443): Max retries exceeded with url: //www.azlyrics.com/lyrics/partynextdoor/believeit.html (Caused by NewConnectionError('<urllib3.connection.HTTPSConnection object at 0x000002B944B175B0>: Failed to establish a new connection: [Errno 11001] getaddrinfo failed'))"
     ]
    }
   ],
   "source": [
    "url_stub = \"https://www.azlyrics.com\" \n",
    "start = time.time()\n",
    "\n",
    "total_pages = 0 \n",
    "\n",
    "for artist in lyrics_pages :\n",
    "    \n",
    "\n",
    "    # Use this space to carry out the following steps: \n",
    "    \n",
    "    \n",
    "    # 1. Build a subfolder for the artist\n",
    "    if os.path.isdir(\"{}\".format(artist)): \n",
    "        shutil.rmtree(artist)\n",
    "\n",
    "    os.mkdir(\"{}\".format(artist))\n",
    "    \n",
    "    #os.chdir('./{}'.format(artist))\n",
    "    \n",
    "    # 2. Iterate over the lyrics pages\n",
    "    for link in lyrics_pages[artist]:\n",
    "        name = generate_filename_from_link(link)\n",
    "        #soup = BeautifulSoup(html, 'html.parser')\n",
    "        #with open(name, 'w') as f:\n",
    "            \n",
    "        # 3. Request the lyrics page. \n",
    "        r = requests.get(url_stub+link)\n",
    "        webpage = html.fromstring(r.content)\n",
    "        #with open(name, 'w') as f:\n",
    "         #   f.write(r.text)\n",
    "        #f.close()\n",
    "        # Don't forget to add a line like `time.sleep(5 + 10*random.random())`# to sleep after making the request\n",
    "        time.sleep(5 + 10*random.random())\n",
    "        #print(webpage)\n",
    "        # 4. Extract the title and lyrics from the page.\n",
    "        soup = BeautifulSoup(r.content, 'html.parser')\n",
    "        titleelement=soup.findAll(\"title\")\n",
    "        song_title=soup.title.text.split(\"-\")[1].split(\"|\")[0].replace(\"Lyrics\",\"\").strip()\n",
    "        \n",
    "        start=soup.text.find(f'\"{song_title}\"')\n",
    "        #start=soup.text[start+1:].find(f'\"{song_title}\"')\n",
    "        end=soup.text.find('Submit Corrections')\n",
    "        \n",
    "        #print(soup.text[start:end].split('\\n'))\n",
    "        # 5. Write out the title, two returns ('\\n'), and the lyrics. Use `generate_filename_from_url`\n",
    "        #    to generate the filename. \n",
    "        #file_name=generate_filename_from_url()\n",
    "        with open(artist+'\\\\'+name, 'w') as f:\n",
    "            f.write(song_title+'\\n\\n')\n",
    "            for line in soup.text[start:end].split('\\n')[11:]:\n",
    "                f.write(line+'\\n')\n",
    "        f.close()\n",
    "    \n",
    "        # Remember to pull at least 20 songs per artist. It may be fun to pull all the songs for the artist\n",
    "        #break       "
   ]
  },
  {
   "cell_type": "code",
   "execution_count": null,
   "id": "36c394f1",
   "metadata": {},
   "outputs": [],
   "source": [
    "print(f\"Total run time was {round((time.time() - start)/3600,2)} hours.\")"
   ]
  },
  {
   "cell_type": "markdown",
   "id": "054cf14b",
   "metadata": {},
   "source": [
    "---\n",
    "\n",
    "# Evaluation\n",
    "\n",
    "This assignment asks you to pull data from the Twitter API and scrape www.AZLyrics.com.  After you have finished the above sections , run all the cells in this notebook. Print this to PDF and submit it, per the instructions."
   ]
  },
  {
   "cell_type": "code",
   "execution_count": null,
   "id": "217c2b0a",
   "metadata": {},
   "outputs": [],
   "source": [
    "# Simple word extractor from Peter Norvig: https://norvig.com/spell-correct.html\n",
    "def words(text): \n",
    "    return re.findall(r'\\w+', text.lower())"
   ]
  },
  {
   "cell_type": "markdown",
   "id": "9290b4c3",
   "metadata": {},
   "source": [
    "---\n",
    "\n",
    "## Checking Twitter Data\n",
    "\n",
    "The output from your Twitter API pull should be two files per artist, stored in files with formats like `cher_followers.txt` (a list of all follower IDs you pulled) and `cher_followers_data.txt`. These files should be in a folder named `twitter` within the repository directory. This code summarizes the information at a high level to help the instructor evaluate your work. "
   ]
  },
  {
   "cell_type": "code",
   "execution_count": null,
   "id": "21b39626",
   "metadata": {},
   "outputs": [],
   "source": [
    "ls twitter"
   ]
  },
  {
   "cell_type": "code",
   "execution_count": null,
   "id": "d2174c46",
   "metadata": {},
   "outputs": [],
   "source": [
    "twitter_files = os.listdir(\"twitter\")\n",
    "twitter_files = [f for f in twitter_files if f != \".DS_Store\"]\n",
    "artist_handles = list(set([name.split(\"_\")[0] for name in twitter_files]))\n",
    "\n",
    "print(f\"We see two artist handles: {artist_handles[0]} and {artist_handles[1]}.\")"
   ]
  },
  {
   "cell_type": "code",
   "execution_count": null,
   "id": "7ad545be",
   "metadata": {},
   "outputs": [],
   "source": [
    "for artist in artist_handles :\n",
    "    follower_file = artist + \"_followers.txt\"\n",
    "    follower_data_file = artist + \"_followers_data.txt\"\n",
    "    \n",
    "    ids = open(\"twitter/\" + follower_file,'r').readlines()\n",
    "    \n",
    "    print(f\"We see {len(ids)-1} in your follower file for {artist}, assuming a header row.\")\n",
    "    \n",
    "    with open(\"twitter/\" + follower_data_file,'r',  encoding='utf-8') as infile :\n",
    "        \n",
    "        # check the headers\n",
    "        headers = infile.readline().split(\"\\t\")\n",
    "        \n",
    "        print(f\"In the follower data file ({follower_data_file}) for {artist}, we have these columns:\")\n",
    "        print(\" : \".join(headers))\n",
    "        \n",
    "        description_words = []\n",
    "        locations = set()\n",
    "        \n",
    "        \n",
    "        for idx, line in enumerate(infile.readlines()) :\n",
    "            line = line.strip(\"\\n\").split(\"\\t\")\n",
    "            \n",
    "            try : \n",
    "                locations.add(line[3])            \n",
    "                description_words.extend(words(line[6]))\n",
    "            except :\n",
    "                pass\n",
    "    \n",
    "        \n",
    "\n",
    "        print(f\"We have {idx+1} data rows for {artist} in the follower data file.\")\n",
    "\n",
    "        print(f\"For {artist} we have {len(locations)} unique locations.\")\n",
    "\n",
    "        print(f\"For {artist} we have {len(description_words)} words in the descriptions.\")\n",
    "        print(\"Here are the five most common words:\")\n",
    "        print(Counter(description_words).most_common(5))\n",
    "\n",
    "        \n",
    "        print(\"\")\n",
    "        print(\"-\"*40)\n",
    "        print(\"\")\n",
    "    "
   ]
  },
  {
   "cell_type": "markdown",
   "id": "37778a1c",
   "metadata": {},
   "source": [
    "## Checking Lyrics \n",
    "\n",
    "The output from your lyrics scrape should be stored in files located in this path from the directory:\n",
    "`/lyrics/[Artist Name]/[filename from URL]`. This code summarizes the information at a high level to help the instructor evaluate your work. "
   ]
  },
  {
   "cell_type": "code",
   "execution_count": null,
   "id": "bccac29c",
   "metadata": {},
   "outputs": [],
   "source": [
    "artist_folders = os.listdir(\"lyrics/\")\n",
    "artist_folders = [f for f in artist_folders if os.path.isdir(\"lyrics/\" + f)]\n",
    "\n",
    "for artist in artist_folders : \n",
    "    artist_files = os.listdir(\"lyrics/\" + artist)\n",
    "    artist_files = [f for f in artist_files if 'txt' in f or 'csv' in f or 'tsv' in f]\n",
    "\n",
    "    print(f\"For {artist} we have {len(artist_files)} files.\")\n",
    "\n",
    "    artist_words = []\n",
    "\n",
    "    for f_name in artist_files : \n",
    "        with open(\"lyrics/\" + artist + \"/\" + f_name) as infile : \n",
    "            artist_words.extend(words(infile.read()))\n",
    "\n",
    "            \n",
    "    print(f\"For {artist} we have roughly {len(artist_words)} words, {len(set(artist_words))} are unique.\")\n"
   ]
  }
 ],
 "metadata": {
  "kernelspec": {
   "display_name": "Python 3",
   "language": "python",
   "name": "python3"
  },
  "language_info": {
   "codemirror_mode": {
    "name": "ipython",
    "version": 3
   },
   "file_extension": ".py",
   "mimetype": "text/x-python",
   "name": "python",
   "nbconvert_exporter": "python",
   "pygments_lexer": "ipython3",
   "version": "3.8.8"
  }
 },
 "nbformat": 4,
 "nbformat_minor": 5
}
